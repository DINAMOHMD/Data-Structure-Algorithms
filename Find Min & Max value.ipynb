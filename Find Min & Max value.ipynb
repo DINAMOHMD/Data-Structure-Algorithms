{
 "cells": [
  {
   "cell_type": "code",
   "execution_count": 2,
   "metadata": {},
   "outputs": [],
   "source": [
    "def max_min_divide_conquer(array, start_index, end_index):\n",
    "    if end_index > start_index:\n",
    "        mid_index = (start_index + end_index) // 2\n",
    "        max1, min1 = max_min_divide_conquer(array, start_index, mid_index)\n",
    "        max2, min2 = max_min_divide_conquer(array, mid_index + 1, end_index)\n",
    "\n",
    "        max_num = max(max1, max2)\n",
    "        min_num = min(min1, min2)\n",
    "        return max_num, min_num\n",
    "\n",
    "    else:\n",
    "        return array[start_index], array[start_index]"
   ]
  },
  {
   "cell_type": "code",
   "execution_count": 7,
   "metadata": {},
   "outputs": [],
   "source": [
    "arr = [3, 1, 4, 1, 5, 9, 2, 6, 5, 3,0, 5,14]\n",
    "start_index = 0\n",
    "end_index = len(arr) - 1"
   ]
  },
  {
   "cell_type": "code",
   "execution_count": 8,
   "metadata": {},
   "outputs": [
    {
     "name": "stdout",
     "output_type": "stream",
     "text": [
      "Maximum: 14\n",
      "Minimum: 0\n"
     ]
    }
   ],
   "source": [
    "max_result, min_result = max_min_divide_conquer(arr, start_index, end_index)\n",
    "print(\"Maximum:\", max_result)\n",
    "print(\"Minimum:\", min_result)"
   ]
  },
  {
   "cell_type": "markdown",
   "metadata": {},
   "source": [
    "Time complexity=O(nlogn)"
   ]
  }
 ],
 "metadata": {
  "kernelspec": {
   "display_name": "Python 3",
   "language": "python",
   "name": "python3"
  },
  "language_info": {
   "codemirror_mode": {
    "name": "ipython",
    "version": 3
   },
   "file_extension": ".py",
   "mimetype": "text/x-python",
   "name": "python",
   "nbconvert_exporter": "python",
   "pygments_lexer": "ipython3",
   "version": "3.7.6"
  }
 },
 "nbformat": 4,
 "nbformat_minor": 4
}
