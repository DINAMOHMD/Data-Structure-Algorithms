{
 "cells": [
  {
   "cell_type": "markdown",
   "metadata": {},
   "source": [
    "# Problem:"
   ]
  },
  {
   "cell_type": "markdown",
   "metadata": {},
   "source": [
    "In an unsorted array, it is required to sort it"
   ]
  },
  {
   "cell_type": "markdown",
   "metadata": {},
   "source": [
    "# Solution:"
   ]
  },
  {
   "cell_type": "markdown",
   "metadata": {},
   "source": [
    "To sort an unsorted array, there are different algorithm one of them     \n",
    "use the Divide and Conquer Approach"
   ]
  },
  {
   "cell_type": "code",
   "execution_count": 1,
   "metadata": {},
   "outputs": [],
   "source": [
    "def Merge_Sort(arr, start, end):\n",
    "    if end > start:\n",
    "        mid = (start + end) // 2 \n",
    "        Merge_Sort(arr, start, mid)\n",
    "        Merge_Sort(arr, mid + 1, end)\n",
    "        Merge(arr, start, mid, end)\n"
   ]
  },
  {
   "cell_type": "code",
   "execution_count": 2,
   "metadata": {},
   "outputs": [],
   "source": [
    "def Merge(arr, start, mid, end):\n",
    "    temp = []\n",
    "    list1 = start\n",
    "    list2 = mid + 1\n",
    "\n",
    "    while list1 <= mid and list2 <= end:\n",
    "        if arr[list1] < arr[list2]:\n",
    "            temp.append(arr[list1])\n",
    "            list1 += 1\n",
    "        else:\n",
    "            temp.append(arr[list2])\n",
    "            list2 += 1\n",
    "\n",
    "    while list1 <= mid:\n",
    "        temp.append(arr[list1])\n",
    "        list1 += 1\n",
    "\n",
    "    while list2 <= end:\n",
    "        temp.append(arr[list2])\n",
    "        list2 += 1\n",
    "\n",
    "    i = start\n",
    "    while i <= end:\n",
    "        arr[i] = temp[i - start]\n",
    "        i += 1\n"
   ]
  },
  {
   "cell_type": "code",
   "execution_count": 4,
   "metadata": {},
   "outputs": [
    {
     "name": "stdout",
     "output_type": "stream",
     "text": [
      "Sorted array: [0, 1, 7, 10, 17, 98, 754, 784, 14789]\n"
     ]
    }
   ],
   "source": [
    "arr = [7,10,98,754,784,14789,0,1,17]\n",
    "Merge_Sort(arr, 0, len(arr) - 1)\n",
    "print(\"Sorted array:\", arr)"
   ]
  },
  {
   "cell_type": "markdown",
   "metadata": {},
   "source": [
    "T(n)=O(Divide&Conquer)+O(Merge)\n",
    "\n",
    "T(n)=O(log(n))+O(n)\n",
    "\n",
    "Time Complixity=O(nlog(n))"
   ]
  }
 ],
 "metadata": {
  "kernelspec": {
   "display_name": "Python 3",
   "language": "python",
   "name": "python3"
  },
  "language_info": {
   "codemirror_mode": {
    "name": "ipython",
    "version": 3
   },
   "file_extension": ".py",
   "mimetype": "text/x-python",
   "name": "python",
   "nbconvert_exporter": "python",
   "pygments_lexer": "ipython3",
   "version": "3.7.6"
  }
 },
 "nbformat": 4,
 "nbformat_minor": 4
}
